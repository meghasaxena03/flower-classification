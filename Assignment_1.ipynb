{
  "nbformat": 4,
  "nbformat_minor": 0,
  "metadata": {
    "colab": {
      "provenance": []
    },
    "kernelspec": {
      "name": "python3",
      "display_name": "Python 3"
    },
    "language_info": {
      "name": "python"
    }
  },
  "cells": [
    {
      "cell_type": "markdown",
      "source": [
        "# ASSIGNMENT 1 "
      ],
      "metadata": {
        "id": "mRkS6WtiMEUV"
      }
    },
    {
      "cell_type": "code",
      "source": [
        "# Name: Megha Saxena\n",
        "# Registration number: 20BIT0366\n",
        "# Email: megha.saxena2020@vitstudent.ac.in\n",
        "# Campus: VIT Vellore\n",
        "# Phone: 9695477666"
      ],
      "metadata": {
        "id": "-iMYqLoeY1Tk"
      },
      "execution_count": null,
      "outputs": []
    },
    {
      "cell_type": "code",
      "source": [
        "import pandas as pd\n",
        "import numpy as np"
      ],
      "metadata": {
        "id": "zuioVlOIMFuW"
      },
      "execution_count": null,
      "outputs": []
    },
    {
      "cell_type": "code",
      "source": [
        "# Task 1\n",
        "# Create a pandas dataframe (DataFrame name as 'df') with numpy random values (4 features and 4 observation)"
      ],
      "metadata": {
        "id": "L_AqevN_ML-x"
      },
      "execution_count": null,
      "outputs": []
    },
    {
      "cell_type": "code",
      "source": [
        "# Create a 4x4 NumPy array with random values\n",
        "data = np.random.random((4, 4))"
      ],
      "metadata": {
        "id": "Wk9WD67NPXTE"
      },
      "execution_count": null,
      "outputs": []
    },
    {
      "cell_type": "code",
      "source": [
        "df = pd.DataFrame(data, columns=['Feature 1', 'Feature 2', 'Feature 3','Feature 4'])"
      ],
      "metadata": {
        "id": "j0zJJCblPj3V"
      },
      "execution_count": null,
      "outputs": []
    },
    {
      "cell_type": "code",
      "source": [
        "# Display the DataFrame\n",
        "print(df)"
      ],
      "metadata": {
        "colab": {
          "base_uri": "https://localhost:8080/"
        },
        "id": "dszBPtSAPqwY",
        "outputId": "3d942900-e6f7-4aa7-ff76-e5d3140cb497"
      },
      "execution_count": null,
      "outputs": [
        {
          "output_type": "stream",
          "name": "stdout",
          "text": [
            "   Feature 1  Feature 2  Feature 3  Feature 4\n",
            "0   0.411317   0.685807   0.560494   0.397321\n",
            "1   0.334718   0.049897   0.432386   0.542890\n",
            "2   0.093153   0.809625   0.562857   0.868501\n",
            "3   0.960898   0.501382   0.329144   0.292214\n"
          ]
        }
      ]
    },
    {
      "cell_type": "code",
      "source": [
        "# Task 2\n",
        "#  Rename the task - 1 'df' dataframe column names to 'Random value 1', 'Random value 2', 'Random value 3' & 'Random value 4'"
      ],
      "metadata": {
        "id": "1do3XPk1Pt0z"
      },
      "execution_count": null,
      "outputs": []
    },
    {
      "cell_type": "code",
      "source": [
        "df = df.rename(columns={\n",
        "    'Feature 1': 'Random value 1',\n",
        "    'Feature 2': 'Random value 2',\n",
        "    'Feature 3': 'Random value 3',\n",
        "    'Feature 4': 'Random value 4'\n",
        "})"
      ],
      "metadata": {
        "id": "x29vlIJrP2Wr"
      },
      "execution_count": null,
      "outputs": []
    },
    {
      "cell_type": "code",
      "source": [
        "print(df)"
      ],
      "metadata": {
        "colab": {
          "base_uri": "https://localhost:8080/"
        },
        "id": "MQdlFDuQP9dx",
        "outputId": "ead4393e-ecdb-48c7-b182-ace69d215174"
      },
      "execution_count": null,
      "outputs": [
        {
          "output_type": "stream",
          "name": "stdout",
          "text": [
            "   Random value 1  Random value 2  Random value 3  Random value 4\n",
            "0        0.411317        0.685807        0.560494        0.397321\n",
            "1        0.334718        0.049897        0.432386        0.542890\n",
            "2        0.093153        0.809625        0.562857        0.868501\n",
            "3        0.960898        0.501382        0.329144        0.292214\n"
          ]
        }
      ]
    },
    {
      "cell_type": "code",
      "source": [
        "# Task 3\n",
        "# Find the descriptive statistics of the 'df' dataframe"
      ],
      "metadata": {
        "id": "5_-LAoisQDFM"
      },
      "execution_count": null,
      "outputs": []
    },
    {
      "cell_type": "code",
      "source": [
        "descriptive_statistics = df.describe()"
      ],
      "metadata": {
        "id": "1PdZQ3kfQFDe"
      },
      "execution_count": null,
      "outputs": []
    },
    {
      "cell_type": "code",
      "source": [
        "print(descriptive_statistics)"
      ],
      "metadata": {
        "colab": {
          "base_uri": "https://localhost:8080/"
        },
        "id": "0Q_1LCRwQMcA",
        "outputId": "0f7081b8-efc2-4ccd-cd37-416787a36e01"
      },
      "execution_count": null,
      "outputs": [
        {
          "output_type": "stream",
          "name": "stdout",
          "text": [
            "       Random value 1  Random value 2  Random value 3  Random value 4\n",
            "count        4.000000        4.000000        4.000000        4.000000\n",
            "mean         0.450022        0.511678        0.471220        0.525231\n",
            "std          0.366580        0.332887        0.112636        0.250868\n",
            "min          0.093153        0.049897        0.329144        0.292214\n",
            "25%          0.274327        0.388511        0.406575        0.371044\n",
            "50%          0.373018        0.593595        0.496440        0.470105\n",
            "75%          0.548713        0.716762        0.561085        0.624292\n",
            "max          0.960898        0.809625        0.562857        0.868501\n"
          ]
        }
      ]
    },
    {
      "cell_type": "code",
      "source": [
        "# Task 4\n",
        "# Check for the null values in 'df' and find the data type of the columns"
      ],
      "metadata": {
        "id": "VqibSutHQSx8"
      },
      "execution_count": null,
      "outputs": []
    },
    {
      "cell_type": "code",
      "source": [
        "null_values = df.isnull().sum()"
      ],
      "metadata": {
        "id": "s2VD5p70QZ-i"
      },
      "execution_count": null,
      "outputs": []
    },
    {
      "cell_type": "code",
      "source": [
        "print(\"Null Values:\")\n",
        "print(null_values)"
      ],
      "metadata": {
        "colab": {
          "base_uri": "https://localhost:8080/"
        },
        "id": "SyaolNfHQfm3",
        "outputId": "a1c0d93d-e71b-4c3a-8d64-33541b6d1734"
      },
      "execution_count": null,
      "outputs": [
        {
          "output_type": "stream",
          "name": "stdout",
          "text": [
            "Null Values:\n",
            "Random value 1    0\n",
            "Random value 2    0\n",
            "Random value 3    0\n",
            "Random value 4    0\n",
            "dtype: int64\n"
          ]
        }
      ]
    },
    {
      "cell_type": "code",
      "source": [
        "data_types = df.dtypes"
      ],
      "metadata": {
        "id": "KPzgduAxQcmx"
      },
      "execution_count": null,
      "outputs": []
    },
    {
      "cell_type": "code",
      "source": [
        "print(\"\\nData Types:\")\n",
        "print(data_types)"
      ],
      "metadata": {
        "colab": {
          "base_uri": "https://localhost:8080/"
        },
        "id": "0qVL7POTQjZ_",
        "outputId": "1c1b604b-2eb3-4083-f8c4-4e8fa2420645"
      },
      "execution_count": null,
      "outputs": [
        {
          "output_type": "stream",
          "name": "stdout",
          "text": [
            "\n",
            "Data Types:\n",
            "Random value 1    float64\n",
            "Random value 2    float64\n",
            "Random value 3    float64\n",
            "Random value 4    float64\n",
            "dtype: object\n"
          ]
        }
      ]
    },
    {
      "cell_type": "code",
      "source": [
        "# Task 5\n",
        "# Display the 'Random value 2' & 'Random value 3' columns with location method and index location method."
      ],
      "metadata": {
        "id": "ePsHAAKrQq7v"
      },
      "execution_count": null,
      "outputs": []
    },
    {
      "cell_type": "code",
      "source": [
        "columns_loc = df.loc[:, ['Random value 2', 'Random value 3']]"
      ],
      "metadata": {
        "id": "hvI87UiJQs0A"
      },
      "execution_count": null,
      "outputs": []
    },
    {
      "cell_type": "code",
      "source": [
        "print(\"Columns using loc:\")\n",
        "print(columns_loc)"
      ],
      "metadata": {
        "colab": {
          "base_uri": "https://localhost:8080/"
        },
        "id": "mWHGpSZDQwD3",
        "outputId": "5f3e49f1-dd6c-429b-a609-842e671e5b3e"
      },
      "execution_count": null,
      "outputs": [
        {
          "output_type": "stream",
          "name": "stdout",
          "text": [
            "Columns using loc:\n",
            "   Random value 2  Random value 3\n",
            "0        0.685807        0.560494\n",
            "1        0.049897        0.432386\n",
            "2        0.809625        0.562857\n",
            "3        0.501382        0.329144\n"
          ]
        }
      ]
    },
    {
      "cell_type": "code",
      "source": [
        "columns_iloc = df.iloc[:, [1, 2]]"
      ],
      "metadata": {
        "id": "_SSmoACLQx5b"
      },
      "execution_count": null,
      "outputs": []
    },
    {
      "cell_type": "code",
      "source": [
        "print(\"\\nColumns using iloc:\")\n",
        "print(columns_iloc)"
      ],
      "metadata": {
        "colab": {
          "base_uri": "https://localhost:8080/"
        },
        "id": "KcjKlQnTQ2cs",
        "outputId": "7de1c90a-659d-4465-f2e4-83b636e9948e"
      },
      "execution_count": null,
      "outputs": [
        {
          "output_type": "stream",
          "name": "stdout",
          "text": [
            "\n",
            "Columns using iloc:\n",
            "   Random value 2  Random value 3\n",
            "0        0.685807        0.560494\n",
            "1        0.049897        0.432386\n",
            "2        0.809625        0.562857\n",
            "3        0.501382        0.329144\n"
          ]
        }
      ]
    }
  ]
}